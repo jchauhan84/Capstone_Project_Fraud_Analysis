{
 "cells": [
  {
   "cell_type": "code",
   "execution_count": 1,
   "id": "ba8561bf",
   "metadata": {},
   "outputs": [
    {
     "data": {
      "text/html": [
       "<div>\n",
       "<style scoped>\n",
       "    .dataframe tbody tr th:only-of-type {\n",
       "        vertical-align: middle;\n",
       "    }\n",
       "\n",
       "    .dataframe tbody tr th {\n",
       "        vertical-align: top;\n",
       "    }\n",
       "\n",
       "    .dataframe thead th {\n",
       "        text-align: right;\n",
       "    }\n",
       "</style>\n",
       "<table border=\"1\" class=\"dataframe\">\n",
       "  <thead>\n",
       "    <tr style=\"text-align: right;\">\n",
       "      <th></th>\n",
       "      <th>user_id</th>\n",
       "      <th>signup_time</th>\n",
       "      <th>purchase_time</th>\n",
       "      <th>purchase_value</th>\n",
       "      <th>device_id</th>\n",
       "      <th>source</th>\n",
       "      <th>browser</th>\n",
       "      <th>sex</th>\n",
       "      <th>ip_address</th>\n",
       "      <th>class</th>\n",
       "      <th>category</th>\n",
       "      <th>dob</th>\n",
       "    </tr>\n",
       "  </thead>\n",
       "  <tbody>\n",
       "    <tr>\n",
       "      <th>0</th>\n",
       "      <td>22058</td>\n",
       "      <td>2015-02-24 22:55:49</td>\n",
       "      <td>2015-04-18 02:47:11</td>\n",
       "      <td>65278</td>\n",
       "      <td>QVPSPJUOCKZAR</td>\n",
       "      <td>SEO</td>\n",
       "      <td>Chrome</td>\n",
       "      <td>M</td>\n",
       "      <td>7.327584e+08</td>\n",
       "      <td>0</td>\n",
       "      <td>home_essentials</td>\n",
       "      <td>22-2-1976</td>\n",
       "    </tr>\n",
       "    <tr>\n",
       "      <th>1</th>\n",
       "      <td>333320</td>\n",
       "      <td>2015-06-07 20:39:50</td>\n",
       "      <td>2015-06-08 01:38:54</td>\n",
       "      <td>96399</td>\n",
       "      <td>EOGFQPIZPYXFZ</td>\n",
       "      <td>Ads</td>\n",
       "      <td>Chrome</td>\n",
       "      <td>F</td>\n",
       "      <td>3.503114e+08</td>\n",
       "      <td>0</td>\n",
       "      <td>apparels</td>\n",
       "      <td>2-1-1962</td>\n",
       "    </tr>\n",
       "    <tr>\n",
       "      <th>2</th>\n",
       "      <td>1359</td>\n",
       "      <td>2015-01-01 18:52:44</td>\n",
       "      <td>2015-01-01 18:52:45</td>\n",
       "      <td>57296</td>\n",
       "      <td>YSSKYOSJHPPLJ</td>\n",
       "      <td>SEO</td>\n",
       "      <td>Opera</td>\n",
       "      <td>M</td>\n",
       "      <td>2.621474e+09</td>\n",
       "      <td>1</td>\n",
       "      <td>electronics</td>\n",
       "      <td>5-3-1962</td>\n",
       "    </tr>\n",
       "    <tr>\n",
       "      <th>3</th>\n",
       "      <td>150084</td>\n",
       "      <td>2015-04-28 21:13:25</td>\n",
       "      <td>2015-05-04 13:54:50</td>\n",
       "      <td>43650</td>\n",
       "      <td>ATGTXKYKUDUQN</td>\n",
       "      <td>SEO</td>\n",
       "      <td>Safari</td>\n",
       "      <td>M</td>\n",
       "      <td>3.840542e+09</td>\n",
       "      <td>0</td>\n",
       "      <td>health_care</td>\n",
       "      <td>3-7-1974</td>\n",
       "    </tr>\n",
       "    <tr>\n",
       "      <th>4</th>\n",
       "      <td>221365</td>\n",
       "      <td>2015-07-21 07:09:52</td>\n",
       "      <td>2015-09-09 18:40:53</td>\n",
       "      <td>45016</td>\n",
       "      <td>NAUITBZFJKHWW</td>\n",
       "      <td>Ads</td>\n",
       "      <td>Safari</td>\n",
       "      <td>M</td>\n",
       "      <td>4.155831e+08</td>\n",
       "      <td>0</td>\n",
       "      <td>home_essentials</td>\n",
       "      <td>25-8-1970</td>\n",
       "    </tr>\n",
       "  </tbody>\n",
       "</table>\n",
       "</div>"
      ],
      "text/plain": [
       "   user_id          signup_time        purchase_time  purchase_value  \\\n",
       "0    22058  2015-02-24 22:55:49  2015-04-18 02:47:11           65278   \n",
       "1   333320  2015-06-07 20:39:50  2015-06-08 01:38:54           96399   \n",
       "2     1359  2015-01-01 18:52:44  2015-01-01 18:52:45           57296   \n",
       "3   150084  2015-04-28 21:13:25  2015-05-04 13:54:50           43650   \n",
       "4   221365  2015-07-21 07:09:52  2015-09-09 18:40:53           45016   \n",
       "\n",
       "       device_id source browser sex    ip_address  class         category  \\\n",
       "0  QVPSPJUOCKZAR    SEO  Chrome   M  7.327584e+08      0  home_essentials   \n",
       "1  EOGFQPIZPYXFZ    Ads  Chrome   F  3.503114e+08      0         apparels   \n",
       "2  YSSKYOSJHPPLJ    SEO   Opera   M  2.621474e+09      1      electronics   \n",
       "3  ATGTXKYKUDUQN    SEO  Safari   M  3.840542e+09      0      health_care   \n",
       "4  NAUITBZFJKHWW    Ads  Safari   M  4.155831e+08      0  home_essentials   \n",
       "\n",
       "         dob  \n",
       "0  22-2-1976  \n",
       "1   2-1-1962  \n",
       "2   5-3-1962  \n",
       "3   3-7-1974  \n",
       "4  25-8-1970  "
      ]
     },
     "execution_count": 1,
     "metadata": {},
     "output_type": "execute_result"
    }
   ],
   "source": [
    "import numpy as np\n",
    "import pandas as pd\n",
    "import seaborn as sns\n",
    "import matplotlib.pyplot as plt\n",
    "%matplotlib inline\n",
    "\n",
    "import warnings\n",
    "warnings.simplefilter('ignore')\n",
    "df = pd.read_csv('Purchase_Fraud_Data.csv')\n",
    "df.head()"
   ]
  },
  {
   "cell_type": "code",
   "execution_count": 2,
   "id": "8466eaf8",
   "metadata": {},
   "outputs": [
    {
     "name": "stdout",
     "output_type": "stream",
     "text": [
      "<class 'pandas.core.frame.DataFrame'>\n",
      "RangeIndex: 151112 entries, 0 to 151111\n",
      "Data columns (total 12 columns):\n",
      " #   Column          Non-Null Count   Dtype  \n",
      "---  ------          --------------   -----  \n",
      " 0   user_id         151112 non-null  int64  \n",
      " 1   signup_time     151112 non-null  object \n",
      " 2   purchase_time   151112 non-null  object \n",
      " 3   purchase_value  151112 non-null  int64  \n",
      " 4   device_id       151112 non-null  object \n",
      " 5   source          151112 non-null  object \n",
      " 6   browser         151112 non-null  object \n",
      " 7   sex             146185 non-null  object \n",
      " 8   ip_address      151112 non-null  float64\n",
      " 9   class           151112 non-null  int64  \n",
      " 10  category        151112 non-null  object \n",
      " 11  dob             146188 non-null  object \n",
      "dtypes: float64(1), int64(3), object(8)\n",
      "memory usage: 13.8+ MB\n"
     ]
    }
   ],
   "source": [
    "df.info()"
   ]
  },
  {
   "cell_type": "code",
   "execution_count": 3,
   "id": "c74764df",
   "metadata": {},
   "outputs": [
    {
     "data": {
      "text/plain": [
       "0    90.635423\n",
       "1     9.364577\n",
       "Name: class, dtype: float64"
      ]
     },
     "execution_count": 3,
     "metadata": {},
     "output_type": "execute_result"
    }
   ],
   "source": [
    "df['class'].value_counts(normalize=True)*100"
   ]
  },
  {
   "cell_type": "markdown",
   "id": "d8c5d577",
   "metadata": {},
   "source": [
    "### <font color='green'>As we can see above that given dataset is unbalanced because the percentage for class 0 and 1 is not equal</font>"
   ]
  },
  {
   "cell_type": "code",
   "execution_count": 4,
   "id": "2d96e439",
   "metadata": {},
   "outputs": [
    {
     "data": {
      "text/plain": [
       "user_id              0\n",
       "signup_time          0\n",
       "purchase_time        0\n",
       "purchase_value       0\n",
       "device_id            0\n",
       "source               0\n",
       "browser              0\n",
       "sex               4927\n",
       "ip_address           0\n",
       "class                0\n",
       "category             0\n",
       "dob               4924\n",
       "dtype: int64"
      ]
     },
     "execution_count": 4,
     "metadata": {},
     "output_type": "execute_result"
    }
   ],
   "source": [
    "df.isna().sum()"
   ]
  },
  {
   "cell_type": "markdown",
   "id": "c5de2281",
   "metadata": {},
   "source": [
    "### <font color='green'>As we can see above  columns: 'sex' and 'dob' of the dataset have the null values</font>"
   ]
  },
  {
   "cell_type": "code",
   "execution_count": 5,
   "id": "4a5ca66a",
   "metadata": {},
   "outputs": [
    {
     "data": {
      "text/html": [
       "<div>\n",
       "<style scoped>\n",
       "    .dataframe tbody tr th:only-of-type {\n",
       "        vertical-align: middle;\n",
       "    }\n",
       "\n",
       "    .dataframe tbody tr th {\n",
       "        vertical-align: top;\n",
       "    }\n",
       "\n",
       "    .dataframe thead th {\n",
       "        text-align: right;\n",
       "    }\n",
       "</style>\n",
       "<table border=\"1\" class=\"dataframe\">\n",
       "  <thead>\n",
       "    <tr style=\"text-align: right;\">\n",
       "      <th></th>\n",
       "      <th>user_id</th>\n",
       "      <th>purchase_value</th>\n",
       "      <th>ip_address</th>\n",
       "      <th>class</th>\n",
       "    </tr>\n",
       "  </thead>\n",
       "  <tbody>\n",
       "    <tr>\n",
       "      <th>count</th>\n",
       "      <td>151112.000000</td>\n",
       "      <td>151112.000000</td>\n",
       "      <td>1.511120e+05</td>\n",
       "      <td>151112.000000</td>\n",
       "    </tr>\n",
       "    <tr>\n",
       "      <th>mean</th>\n",
       "      <td>200171.040970</td>\n",
       "      <td>50521.469003</td>\n",
       "      <td>2.152145e+09</td>\n",
       "      <td>0.093646</td>\n",
       "    </tr>\n",
       "    <tr>\n",
       "      <th>std</th>\n",
       "      <td>115369.285024</td>\n",
       "      <td>28533.667117</td>\n",
       "      <td>1.248497e+09</td>\n",
       "      <td>0.291336</td>\n",
       "    </tr>\n",
       "    <tr>\n",
       "      <th>min</th>\n",
       "      <td>2.000000</td>\n",
       "      <td>1016.000000</td>\n",
       "      <td>5.209350e+04</td>\n",
       "      <td>0.000000</td>\n",
       "    </tr>\n",
       "    <tr>\n",
       "      <th>25%</th>\n",
       "      <td>100642.500000</td>\n",
       "      <td>25919.000000</td>\n",
       "      <td>1.085934e+09</td>\n",
       "      <td>0.000000</td>\n",
       "    </tr>\n",
       "    <tr>\n",
       "      <th>50%</th>\n",
       "      <td>199958.000000</td>\n",
       "      <td>50484.000000</td>\n",
       "      <td>2.154770e+09</td>\n",
       "      <td>0.000000</td>\n",
       "    </tr>\n",
       "    <tr>\n",
       "      <th>75%</th>\n",
       "      <td>300054.000000</td>\n",
       "      <td>75296.250000</td>\n",
       "      <td>3.243258e+09</td>\n",
       "      <td>0.000000</td>\n",
       "    </tr>\n",
       "    <tr>\n",
       "      <th>max</th>\n",
       "      <td>400000.000000</td>\n",
       "      <td>100092.000000</td>\n",
       "      <td>4.294850e+09</td>\n",
       "      <td>1.000000</td>\n",
       "    </tr>\n",
       "  </tbody>\n",
       "</table>\n",
       "</div>"
      ],
      "text/plain": [
       "             user_id  purchase_value    ip_address          class\n",
       "count  151112.000000   151112.000000  1.511120e+05  151112.000000\n",
       "mean   200171.040970    50521.469003  2.152145e+09       0.093646\n",
       "std    115369.285024    28533.667117  1.248497e+09       0.291336\n",
       "min         2.000000     1016.000000  5.209350e+04       0.000000\n",
       "25%    100642.500000    25919.000000  1.085934e+09       0.000000\n",
       "50%    199958.000000    50484.000000  2.154770e+09       0.000000\n",
       "75%    300054.000000    75296.250000  3.243258e+09       0.000000\n",
       "max    400000.000000   100092.000000  4.294850e+09       1.000000"
      ]
     },
     "execution_count": 5,
     "metadata": {},
     "output_type": "execute_result"
    }
   ],
   "source": [
    "df.describe()"
   ]
  },
  {
   "cell_type": "code",
   "execution_count": 6,
   "id": "332af2c6",
   "metadata": {},
   "outputs": [
    {
     "data": {
      "text/html": [
       "<div>\n",
       "<style scoped>\n",
       "    .dataframe tbody tr th:only-of-type {\n",
       "        vertical-align: middle;\n",
       "    }\n",
       "\n",
       "    .dataframe tbody tr th {\n",
       "        vertical-align: top;\n",
       "    }\n",
       "\n",
       "    .dataframe thead th {\n",
       "        text-align: right;\n",
       "    }\n",
       "</style>\n",
       "<table border=\"1\" class=\"dataframe\">\n",
       "  <thead>\n",
       "    <tr style=\"text-align: right;\">\n",
       "      <th></th>\n",
       "      <th>signup_time</th>\n",
       "      <th>purchase_time</th>\n",
       "      <th>device_id</th>\n",
       "      <th>source</th>\n",
       "      <th>browser</th>\n",
       "      <th>sex</th>\n",
       "      <th>category</th>\n",
       "      <th>dob</th>\n",
       "    </tr>\n",
       "  </thead>\n",
       "  <tbody>\n",
       "    <tr>\n",
       "      <th>count</th>\n",
       "      <td>151112</td>\n",
       "      <td>151112</td>\n",
       "      <td>151112</td>\n",
       "      <td>151112</td>\n",
       "      <td>151112</td>\n",
       "      <td>146185</td>\n",
       "      <td>151112</td>\n",
       "      <td>146188</td>\n",
       "    </tr>\n",
       "    <tr>\n",
       "      <th>unique</th>\n",
       "      <td>151112</td>\n",
       "      <td>150663</td>\n",
       "      <td>137956</td>\n",
       "      <td>3</td>\n",
       "      <td>5</td>\n",
       "      <td>2</td>\n",
       "      <td>5</td>\n",
       "      <td>13745</td>\n",
       "    </tr>\n",
       "    <tr>\n",
       "      <th>top</th>\n",
       "      <td>2015-02-24 22:55:49</td>\n",
       "      <td>2015-09-10 09:04:53</td>\n",
       "      <td>CQTUVBYIWWWBC</td>\n",
       "      <td>SEO</td>\n",
       "      <td>Chrome</td>\n",
       "      <td>M</td>\n",
       "      <td>electronics</td>\n",
       "      <td>24-7-1982</td>\n",
       "    </tr>\n",
       "    <tr>\n",
       "      <th>freq</th>\n",
       "      <td>1</td>\n",
       "      <td>3</td>\n",
       "      <td>20</td>\n",
       "      <td>60615</td>\n",
       "      <td>61432</td>\n",
       "      <td>85445</td>\n",
       "      <td>32056</td>\n",
       "      <td>37</td>\n",
       "    </tr>\n",
       "  </tbody>\n",
       "</table>\n",
       "</div>"
      ],
      "text/plain": [
       "                signup_time        purchase_time      device_id  source  \\\n",
       "count                151112               151112         151112  151112   \n",
       "unique               151112               150663         137956       3   \n",
       "top     2015-02-24 22:55:49  2015-09-10 09:04:53  CQTUVBYIWWWBC     SEO   \n",
       "freq                      1                    3             20   60615   \n",
       "\n",
       "       browser     sex     category        dob  \n",
       "count   151112  146185       151112     146188  \n",
       "unique       5       2            5      13745  \n",
       "top     Chrome       M  electronics  24-7-1982  \n",
       "freq     61432   85445        32056         37  "
      ]
     },
     "execution_count": 6,
     "metadata": {},
     "output_type": "execute_result"
    }
   ],
   "source": [
    "df.describe(include=['O'])"
   ]
  },
  {
   "cell_type": "code",
   "execution_count": 7,
   "id": "c2f8b315",
   "metadata": {},
   "outputs": [
    {
     "data": {
      "text/plain": [
       "True"
      ]
     },
     "execution_count": 7,
     "metadata": {},
     "output_type": "execute_result"
    }
   ],
   "source": [
    "len(df)==len(df['user_id'].unique())"
   ]
  },
  {
   "cell_type": "markdown",
   "id": "8c5c3d1e",
   "metadata": {},
   "source": [
    "### <font color='green'>Based on above overview, we can see that there is  missing entries for the features: sex and dob and these are not very insightful later we can remove them, all the user ids are unique in the table. In terms of the percentage of fraudulent activities, current mean rate of fraudulent transactions is 9.36%.</font>"
   ]
  },
  {
   "cell_type": "markdown",
   "id": "84026e59",
   "metadata": {},
   "source": [
    "## <font color='blue'>The target variable is class, and there are some features in the table that we can play with for the purpose of feature engineering, this include:</font>\n",
    "### <font color='green'>Calculate time difference between sign-up time and purchase time;</font>\n",
    "### <font color='green'>Check whether different users use the same device, which could indicate fake accounts;</font>\n",
    "### <font color='green'>Check whether different users have the same IP address, which could also be an indicator;</font>\n",
    "### <font color='green'>Explore other temporal patterns, such as week of the year and day of the week.</font>"
   ]
  },
  {
   "cell_type": "code",
   "execution_count": 8,
   "id": "e7a7bb75",
   "metadata": {},
   "outputs": [
    {
     "data": {
      "text/html": [
       "<div>\n",
       "<style scoped>\n",
       "    .dataframe tbody tr th:only-of-type {\n",
       "        vertical-align: middle;\n",
       "    }\n",
       "\n",
       "    .dataframe tbody tr th {\n",
       "        vertical-align: top;\n",
       "    }\n",
       "\n",
       "    .dataframe thead th {\n",
       "        text-align: right;\n",
       "    }\n",
       "</style>\n",
       "<table border=\"1\" class=\"dataframe\">\n",
       "  <thead>\n",
       "    <tr style=\"text-align: right;\">\n",
       "      <th></th>\n",
       "      <th>user_id</th>\n",
       "      <th>signup_time</th>\n",
       "      <th>purchase_time</th>\n",
       "      <th>purchase_value</th>\n",
       "      <th>device_id</th>\n",
       "      <th>source</th>\n",
       "      <th>browser</th>\n",
       "      <th>sex</th>\n",
       "      <th>ip_address</th>\n",
       "      <th>class</th>\n",
       "      <th>category</th>\n",
       "      <th>dob</th>\n",
       "    </tr>\n",
       "  </thead>\n",
       "  <tbody>\n",
       "    <tr>\n",
       "      <th>0</th>\n",
       "      <td>22058</td>\n",
       "      <td>2015-02-24 22:55:49</td>\n",
       "      <td>2015-04-18 02:47:11</td>\n",
       "      <td>65278</td>\n",
       "      <td>QVPSPJUOCKZAR</td>\n",
       "      <td>SEO</td>\n",
       "      <td>Chrome</td>\n",
       "      <td>M</td>\n",
       "      <td>7.327584e+08</td>\n",
       "      <td>0</td>\n",
       "      <td>home_essentials</td>\n",
       "      <td>22-2-1976</td>\n",
       "    </tr>\n",
       "  </tbody>\n",
       "</table>\n",
       "</div>"
      ],
      "text/plain": [
       "   user_id          signup_time        purchase_time  purchase_value  \\\n",
       "0    22058  2015-02-24 22:55:49  2015-04-18 02:47:11           65278   \n",
       "\n",
       "       device_id source browser sex    ip_address  class         category  \\\n",
       "0  QVPSPJUOCKZAR    SEO  Chrome   M  7.327584e+08      0  home_essentials   \n",
       "\n",
       "         dob  \n",
       "0  22-2-1976  "
      ]
     },
     "execution_count": 8,
     "metadata": {},
     "output_type": "execute_result"
    }
   ],
   "source": [
    "df.head(1)"
   ]
  },
  {
   "cell_type": "code",
   "execution_count": 9,
   "id": "ea3199eb",
   "metadata": {},
   "outputs": [],
   "source": [
    "# Conversion of datatypes for columns: 'signup_time' and 'purchase_time' to datetime64\n",
    "df['purchase_time'] = pd.to_datetime(df['purchase_time'])\n",
    "df['signup_time'] = pd.to_datetime(df['signup_time'])"
   ]
  },
  {
   "cell_type": "code",
   "execution_count": 10,
   "id": "3c96fc2b",
   "metadata": {},
   "outputs": [],
   "source": [
    "# Create the time difference column\n",
    "df['time_diff']=(df['purchase_time']-df['signup_time']).apply(lambda x:x.days)"
   ]
  },
  {
   "cell_type": "code",
   "execution_count": 12,
   "id": "0779cee4",
   "metadata": {},
   "outputs": [
    {
     "data": {
      "text/plain": [
       "<bound method DataFrame.rename of             device_id  user_id\n",
       "0       AAALBGNHHVMKG        1\n",
       "1       AAAWIHVCQELTP        1\n",
       "2       AAAXJHWCLISKY        1\n",
       "3       AAAXXOZJRZRAO       11\n",
       "4       AABFGRPBQHWFQ        1\n",
       "...               ...      ...\n",
       "137951  ZZZGSIJRNCXBJ        1\n",
       "137952  ZZZIKLJSVSQMF        1\n",
       "137953  ZZZKJIZHJEDFN        1\n",
       "137954  ZZZMVOGBAJVTM        1\n",
       "137955  ZZZXASJUVUNMV        1\n",
       "\n",
       "[137956 rows x 2 columns]>"
      ]
     },
     "execution_count": 12,
     "metadata": {},
     "output_type": "execute_result"
    }
   ],
   "source": [
    "df.groupby('device_id')['user_id'].count().reset_index().rename\n"
   ]
  },
  {
   "cell_type": "code",
   "execution_count": 13,
   "id": "681a1ae3",
   "metadata": {},
   "outputs": [],
   "source": [
    "# Check whether different users use the same device and create a new column to count repeated device use\n",
    "Temp1=df.groupby('device_id')['user_id'].count().reset_index().rename(columns={'user_id':'device_count'})\n",
    "df=df.merge(Temp1,how='left',on='device_id')"
   ]
  },
  {
   "cell_type": "code",
   "execution_count": 14,
   "id": "5f68e9f6",
   "metadata": {},
   "outputs": [],
   "source": [
    "# Check whether different users use the same IP address and create a new column to count repeated IP use\n",
    "Temp2=df.groupby('ip_address')['user_id'].count().reset_index().rename(columns={'user_id':'ip_count'})\n",
    "df=df.merge(Temp2,how='left',on='ip_address')"
   ]
  },
  {
   "cell_type": "code",
   "execution_count": 15,
   "id": "03ec0a95",
   "metadata": {},
   "outputs": [],
   "source": [
    "# Create week of year and day of week columns for sign time and purchase time\n",
    "df['signup_week']=df['signup_time'].apply(lambda x:x.week)\n",
    "df['signup_day']=df['signup_time'].apply(lambda x:x.dayofweek)\n",
    "df['purchase_week']=df['purchase_time'].apply(lambda x:x.week)\n",
    "df['purchase_day']=df['purchase_time'].apply(lambda x:x.dayofweek)"
   ]
  },
  {
   "cell_type": "code",
   "execution_count": 16,
   "id": "3abf26c4",
   "metadata": {},
   "outputs": [
    {
     "data": {
      "text/html": [
       "<div>\n",
       "<style scoped>\n",
       "    .dataframe tbody tr th:only-of-type {\n",
       "        vertical-align: middle;\n",
       "    }\n",
       "\n",
       "    .dataframe tbody tr th {\n",
       "        vertical-align: top;\n",
       "    }\n",
       "\n",
       "    .dataframe thead th {\n",
       "        text-align: right;\n",
       "    }\n",
       "</style>\n",
       "<table border=\"1\" class=\"dataframe\">\n",
       "  <thead>\n",
       "    <tr style=\"text-align: right;\">\n",
       "      <th></th>\n",
       "      <th>user_id</th>\n",
       "      <th>signup_time</th>\n",
       "      <th>purchase_time</th>\n",
       "      <th>purchase_value</th>\n",
       "      <th>device_id</th>\n",
       "      <th>source</th>\n",
       "      <th>browser</th>\n",
       "      <th>sex</th>\n",
       "      <th>ip_address</th>\n",
       "      <th>class</th>\n",
       "      <th>category</th>\n",
       "      <th>dob</th>\n",
       "      <th>time_diff</th>\n",
       "      <th>device_count</th>\n",
       "      <th>ip_count</th>\n",
       "      <th>signup_week</th>\n",
       "      <th>signup_day</th>\n",
       "      <th>purchase_week</th>\n",
       "      <th>purchase_day</th>\n",
       "    </tr>\n",
       "  </thead>\n",
       "  <tbody>\n",
       "    <tr>\n",
       "      <th>0</th>\n",
       "      <td>22058</td>\n",
       "      <td>2015-02-24 22:55:49</td>\n",
       "      <td>2015-04-18 02:47:11</td>\n",
       "      <td>65278</td>\n",
       "      <td>QVPSPJUOCKZAR</td>\n",
       "      <td>SEO</td>\n",
       "      <td>Chrome</td>\n",
       "      <td>M</td>\n",
       "      <td>7.327584e+08</td>\n",
       "      <td>0</td>\n",
       "      <td>home_essentials</td>\n",
       "      <td>22-2-1976</td>\n",
       "      <td>52</td>\n",
       "      <td>1</td>\n",
       "      <td>1</td>\n",
       "      <td>9</td>\n",
       "      <td>1</td>\n",
       "      <td>16</td>\n",
       "      <td>5</td>\n",
       "    </tr>\n",
       "    <tr>\n",
       "      <th>1</th>\n",
       "      <td>333320</td>\n",
       "      <td>2015-06-07 20:39:50</td>\n",
       "      <td>2015-06-08 01:38:54</td>\n",
       "      <td>96399</td>\n",
       "      <td>EOGFQPIZPYXFZ</td>\n",
       "      <td>Ads</td>\n",
       "      <td>Chrome</td>\n",
       "      <td>F</td>\n",
       "      <td>3.503114e+08</td>\n",
       "      <td>0</td>\n",
       "      <td>apparels</td>\n",
       "      <td>2-1-1962</td>\n",
       "      <td>0</td>\n",
       "      <td>1</td>\n",
       "      <td>1</td>\n",
       "      <td>23</td>\n",
       "      <td>6</td>\n",
       "      <td>24</td>\n",
       "      <td>0</td>\n",
       "    </tr>\n",
       "    <tr>\n",
       "      <th>2</th>\n",
       "      <td>1359</td>\n",
       "      <td>2015-01-01 18:52:44</td>\n",
       "      <td>2015-01-01 18:52:45</td>\n",
       "      <td>57296</td>\n",
       "      <td>YSSKYOSJHPPLJ</td>\n",
       "      <td>SEO</td>\n",
       "      <td>Opera</td>\n",
       "      <td>M</td>\n",
       "      <td>2.621474e+09</td>\n",
       "      <td>1</td>\n",
       "      <td>electronics</td>\n",
       "      <td>5-3-1962</td>\n",
       "      <td>0</td>\n",
       "      <td>12</td>\n",
       "      <td>12</td>\n",
       "      <td>1</td>\n",
       "      <td>3</td>\n",
       "      <td>1</td>\n",
       "      <td>3</td>\n",
       "    </tr>\n",
       "    <tr>\n",
       "      <th>3</th>\n",
       "      <td>150084</td>\n",
       "      <td>2015-04-28 21:13:25</td>\n",
       "      <td>2015-05-04 13:54:50</td>\n",
       "      <td>43650</td>\n",
       "      <td>ATGTXKYKUDUQN</td>\n",
       "      <td>SEO</td>\n",
       "      <td>Safari</td>\n",
       "      <td>M</td>\n",
       "      <td>3.840542e+09</td>\n",
       "      <td>0</td>\n",
       "      <td>health_care</td>\n",
       "      <td>3-7-1974</td>\n",
       "      <td>5</td>\n",
       "      <td>1</td>\n",
       "      <td>1</td>\n",
       "      <td>18</td>\n",
       "      <td>1</td>\n",
       "      <td>19</td>\n",
       "      <td>0</td>\n",
       "    </tr>\n",
       "    <tr>\n",
       "      <th>4</th>\n",
       "      <td>221365</td>\n",
       "      <td>2015-07-21 07:09:52</td>\n",
       "      <td>2015-09-09 18:40:53</td>\n",
       "      <td>45016</td>\n",
       "      <td>NAUITBZFJKHWW</td>\n",
       "      <td>Ads</td>\n",
       "      <td>Safari</td>\n",
       "      <td>M</td>\n",
       "      <td>4.155831e+08</td>\n",
       "      <td>0</td>\n",
       "      <td>home_essentials</td>\n",
       "      <td>25-8-1970</td>\n",
       "      <td>50</td>\n",
       "      <td>1</td>\n",
       "      <td>1</td>\n",
       "      <td>30</td>\n",
       "      <td>1</td>\n",
       "      <td>37</td>\n",
       "      <td>2</td>\n",
       "    </tr>\n",
       "  </tbody>\n",
       "</table>\n",
       "</div>"
      ],
      "text/plain": [
       "   user_id         signup_time       purchase_time  purchase_value  \\\n",
       "0    22058 2015-02-24 22:55:49 2015-04-18 02:47:11           65278   \n",
       "1   333320 2015-06-07 20:39:50 2015-06-08 01:38:54           96399   \n",
       "2     1359 2015-01-01 18:52:44 2015-01-01 18:52:45           57296   \n",
       "3   150084 2015-04-28 21:13:25 2015-05-04 13:54:50           43650   \n",
       "4   221365 2015-07-21 07:09:52 2015-09-09 18:40:53           45016   \n",
       "\n",
       "       device_id source browser sex    ip_address  class         category  \\\n",
       "0  QVPSPJUOCKZAR    SEO  Chrome   M  7.327584e+08      0  home_essentials   \n",
       "1  EOGFQPIZPYXFZ    Ads  Chrome   F  3.503114e+08      0         apparels   \n",
       "2  YSSKYOSJHPPLJ    SEO   Opera   M  2.621474e+09      1      electronics   \n",
       "3  ATGTXKYKUDUQN    SEO  Safari   M  3.840542e+09      0      health_care   \n",
       "4  NAUITBZFJKHWW    Ads  Safari   M  4.155831e+08      0  home_essentials   \n",
       "\n",
       "         dob  time_diff  device_count  ip_count  signup_week  signup_day  \\\n",
       "0  22-2-1976         52             1         1            9           1   \n",
       "1   2-1-1962          0             1         1           23           6   \n",
       "2   5-3-1962          0            12        12            1           3   \n",
       "3   3-7-1974          5             1         1           18           1   \n",
       "4  25-8-1970         50             1         1           30           1   \n",
       "\n",
       "   purchase_week  purchase_day  \n",
       "0             16             5  \n",
       "1             24             0  \n",
       "2              1             3  \n",
       "3             19             0  \n",
       "4             37             2  "
      ]
     },
     "execution_count": 16,
     "metadata": {},
     "output_type": "execute_result"
    }
   ],
   "source": [
    "# Show the new data table\n",
    "df.head()"
   ]
  },
  {
   "cell_type": "markdown",
   "id": "84aec97f",
   "metadata": {},
   "source": [
    "### <font color='green'>Now, we may select what features to include in our machine learning model. We will drop user_id, device_id and ip_address as the three columns are just identifiers and don't contain much useful information in themselves. We have also engineered new features from time-related features, therefore, we can also drop signup_time and purchase_time.</font>"
   ]
  },
  {
   "cell_type": "code",
   "execution_count": null,
   "id": "44dea3a9",
   "metadata": {},
   "outputs": [],
   "source": [
    "columns = ['user_id','signup_time','purchase_time','device_id','ip_address']\n",
    "df_new=df.drop(columns,axis=1)\n",
    "df_new.head()"
   ]
  },
  {
   "cell_type": "code",
   "execution_count": null,
   "id": "17bc4f3c",
   "metadata": {},
   "outputs": [],
   "source": [
    "# Pre-check correlation between features and our target variable 'class' using heatmap.\n",
    "fig,ax=plt.subplots(figsize=(10,8))\n",
    "sns.heatmap(df_new.corr(), annot=True, cmap='YlGnBu', vmin=-1, vmax=1, cbar=True, linewidths=0.5)\n",
    "plt.show()"
   ]
  },
  {
   "cell_type": "markdown",
   "id": "ccf2e908",
   "metadata": {},
   "source": [
    "### <font color='blue'>As shown above, device count and ip count have high correlation with the target.</font>"
   ]
  },
  {
   "cell_type": "markdown",
   "id": "3a9f69e9",
   "metadata": {},
   "source": [
    "### <font color='green'>Next, we will move on to pick and apply a machine learning model. I will use H2O random forest model here because: random forest requires very little time to optimize (its default parameters are often close to the best ones), and it is strong with both continuous and discrete variables. H2O random forest can handle categorical variables without the need to convert them to numerical ones, which will make things easier for us in this case.</font>"
   ]
  },
  {
   "cell_type": "code",
   "execution_count": null,
   "id": "f1bafcdc",
   "metadata": {},
   "outputs": [],
   "source": [
    "from sklearn.ensemble import RandomForestClassifier\n",
    "from sklearn.metrics import roc_curve, auc, classification_report"
   ]
  },
  {
   "cell_type": "code",
   "execution_count": null,
   "id": "5416aac1",
   "metadata": {},
   "outputs": [],
   "source": [
    "#df_new['source']= df_new['source'].astype(\"category\")"
   ]
  },
  {
   "cell_type": "code",
   "execution_count": null,
   "id": "8f68dac4",
   "metadata": {},
   "outputs": [],
   "source": [
    "df_new.info()"
   ]
  },
  {
   "cell_type": "code",
   "execution_count": null,
   "id": "0dc605b7",
   "metadata": {},
   "outputs": [],
   "source": [
    "# Define features and target\n",
    "feature = ['purchase_value', 'source', 'browser', 'sex', 'time_diff', 'device_count', 'ip_count',\n",
    "           'signup_week', 'signup_day', 'purchase_week','purchase_day']\n",
    "target = 'class'\n",
    "X=df_new[feature]\n",
    "y=df_new[target]"
   ]
  },
  {
   "cell_type": "code",
   "execution_count": null,
   "id": "1718c753",
   "metadata": {},
   "outputs": [],
   "source": [
    "# Split the data into 70% training and 30% test data\n",
    "from sklearn.model_selection import train_test_split\n",
    "X_train,X_test,y_train,y_test = train_test_split(X,y)"
   ]
  },
  {
   "cell_type": "code",
   "execution_count": null,
   "id": "c6c8a4c9",
   "metadata": {},
   "outputs": [],
   "source": [
    "X_train.dtypes"
   ]
  },
  {
   "cell_type": "code",
   "execution_count": null,
   "id": "d3d4cfc5",
   "metadata": {},
   "outputs": [],
   "source": [
    "features_to_encode = list(X_train.select_dtypes(include = ['object']).columns)"
   ]
  },
  {
   "cell_type": "code",
   "execution_count": null,
   "id": "d106c688",
   "metadata": {},
   "outputs": [],
   "source": [
    "from sklearn.preprocessing import OneHotEncoder\n",
    "from sklearn.compose import make_column_transformer\n",
    "col_trans = make_column_transformer(\n",
    "                        (OneHotEncoder(),features_to_encode),\n",
    "                        remainder = \"passthrough\"\n",
    "                        )"
   ]
  },
  {
   "cell_type": "code",
   "execution_count": null,
   "id": "77c4a8e4",
   "metadata": {},
   "outputs": [],
   "source": [
    "#build the classifier\n",
    "rf_classifier = RandomForestClassifier(\n",
    "                      min_samples_leaf=50,\n",
    "                      n_estimators=150,\n",
    "                      bootstrap=True,\n",
    "                      oob_score=True,\n",
    "                      n_jobs=-1,\n",
    "                      random_state=50,\n",
    "                      max_features='auto')"
   ]
  },
  {
   "cell_type": "code",
   "execution_count": null,
   "id": "9229d3f9",
   "metadata": {},
   "outputs": [],
   "source": [
    "from sklearn.pipeline import make_pipeline\n",
    "pipe = make_pipeline(col_trans, rf_classifier)\n",
    "pipe.fit(X_train, y_train)"
   ]
  },
  {
   "cell_type": "code",
   "execution_count": null,
   "id": "8b60b5dc",
   "metadata": {},
   "outputs": [],
   "source": [
    "from sklearn.metrics import roc_curve, auc, classification_report,accuracy_score\n",
    "#test the classifier\n",
    "y_test_pred = pipe.predict(X_test)\n",
    "\n",
    "#calculate accuracy\n",
    "accuracy_score(y_test, y_test_pred)\n",
    "#accuracy_score(y_train, pipe.predict(X_train))"
   ]
  },
  {
   "cell_type": "code",
   "execution_count": null,
   "id": "f8daba45",
   "metadata": {},
   "outputs": [],
   "source": [
    "# Print out classification report\n",
    "print(classification_report(y_test, (y_test_pred > 0.5).astype(int)))"
   ]
  },
  {
   "cell_type": "code",
   "execution_count": null,
   "id": "a6e4fa43",
   "metadata": {},
   "outputs": [],
   "source": [
    "y_train_pred = pipe.predict(X_train)\n",
    "train_fpr, train_tpr,_=roc_curve(y_train,y_train_pred)\n",
    "train_auc = np.round(auc(train_fpr, train_tpr),3)\n",
    "test_fpr, test_tpr, _ = roc_curve(y_test, y_test_pred)\n",
    "test_auc = np.round(auc(test_fpr, test_tpr), 3)"
   ]
  },
  {
   "cell_type": "code",
   "execution_count": null,
   "id": "dd749d26",
   "metadata": {},
   "outputs": [],
   "source": [
    "# Plot ROC curve and AUC\n",
    "train_fpr = np.insert(train_fpr, 0, 0)\n",
    "train_tpr = np.insert(train_tpr, 0, 0)\n",
    "test_fpr = np.insert(test_fpr, 0, 0)\n",
    "test_tpr = np.insert(test_tpr, 0, 0)\n",
    "\n",
    "fig, ax = plt.subplots(figsize=(8, 6))\n",
    "ax.plot(train_fpr, train_tpr, label='Train AUC: ' + str(train_auc))\n",
    "ax.plot(test_fpr, test_tpr, label='Test AUC: ' + str(test_auc))\n",
    "ax.plot(train_fpr, train_fpr, 'k--', label='Chance Curve')\n",
    "ax.set_xlabel('False Positive Rate', fontsize=12)\n",
    "ax.set_ylabel('True Positive Rate', fontsize=12)\n",
    "ax.grid(True)\n",
    "ax.legend(fontsize=12)\n",
    "plt.show()"
   ]
  },
  {
   "cell_type": "markdown",
   "id": "20c9f46a",
   "metadata": {},
   "source": [
    "### <font color='blue'>As shown in above classification report and ROC curve, the recall rate of label 1 is 0.67, meaning out of true fraudulent samples, 67% are correctly predicted. Since this challenge is about classification of fraudulent activities, it is critical to correctly classify every fraudulent activity in order to minimize the risk. This means we may need to reduce the number of false negatives (fraudulent but incorrectly classified as non-fraudulent) by lowering the threshold from the default 0.5 level, even if this may result in more false positives (non-fraudulent activities classfied as fraudulent).</font>"
   ]
  },
  {
   "cell_type": "code",
   "execution_count": null,
   "id": "c1e7e7e9",
   "metadata": {},
   "outputs": [],
   "source": [
    "# Plot feature importance\n",
    "rf_fit = rf_classifier.fit(X_train, y_train)\n",
    "feature_importances = rf_fit.best_estimator_._final_estimator.feature_importances_\n",
    "\n",
    "fig, ax = plt.subplots(figsize=(8, 6))\n",
    "sns.barplot(x='scaled_importance',y='variable',data=feature_importances)\n",
    "plt.show()"
   ]
  },
  {
   "cell_type": "code",
   "execution_count": null,
   "id": "96f3de21",
   "metadata": {},
   "outputs": [],
   "source": []
  }
 ],
 "metadata": {
  "kernelspec": {
   "display_name": "Python 3 (ipykernel)",
   "language": "python",
   "name": "python3"
  },
  "language_info": {
   "codemirror_mode": {
    "name": "ipython",
    "version": 3
   },
   "file_extension": ".py",
   "mimetype": "text/x-python",
   "name": "python",
   "nbconvert_exporter": "python",
   "pygments_lexer": "ipython3",
   "version": "3.9.7"
  }
 },
 "nbformat": 4,
 "nbformat_minor": 5
}
